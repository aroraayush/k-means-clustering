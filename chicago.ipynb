{
 "cells": [
  {
   "cell_type": "code",
   "execution_count": 5,
   "metadata": {},
   "outputs": [],
   "source": [
    "import pandas as pd\n",
    "import numpy as np\n",
    "from sklearn.cluster import KMeans\n",
    "import matplotlib.pyplot as plt\n",
    "from sklearn.cluster import DBSCAN\n",
    "from sklearn.preprocessing import StandardScaler"
   ]
  },
  {
   "cell_type": "code",
   "execution_count": 6,
   "metadata": {},
   "outputs": [],
   "source": [
    "df = pd.read_csv(\"chicago_taxi.csv\")"
   ]
  },
  {
   "cell_type": "code",
   "execution_count": 7,
   "metadata": {},
   "outputs": [
    {
     "data": {
      "text/html": [
       "<div>\n",
       "<style scoped>\n",
       "    .dataframe tbody tr th:only-of-type {\n",
       "        vertical-align: middle;\n",
       "    }\n",
       "\n",
       "    .dataframe tbody tr th {\n",
       "        vertical-align: top;\n",
       "    }\n",
       "\n",
       "    .dataframe thead th {\n",
       "        text-align: right;\n",
       "    }\n",
       "</style>\n",
       "<table border=\"1\" class=\"dataframe\">\n",
       "  <thead>\n",
       "    <tr style=\"text-align: right;\">\n",
       "      <th></th>\n",
       "      <th>Trip ID</th>\n",
       "      <th>Taxi ID</th>\n",
       "      <th>Trip Start Timestamp</th>\n",
       "      <th>Trip End Timestamp</th>\n",
       "      <th>Trip Seconds</th>\n",
       "      <th>Trip Miles</th>\n",
       "      <th>Pickup Census Tract</th>\n",
       "      <th>Dropoff Census Tract</th>\n",
       "      <th>Pickup Community Area</th>\n",
       "      <th>Dropoff Community Area</th>\n",
       "      <th>...</th>\n",
       "      <th>Extras</th>\n",
       "      <th>Trip Total</th>\n",
       "      <th>Payment Type</th>\n",
       "      <th>Company</th>\n",
       "      <th>Pickup Centroid Latitude</th>\n",
       "      <th>Pickup Centroid Longitude</th>\n",
       "      <th>Pickup Centroid Location</th>\n",
       "      <th>Dropoff Centroid Latitude</th>\n",
       "      <th>Dropoff Centroid Longitude</th>\n",
       "      <th>Dropoff Centroid  Location</th>\n",
       "    </tr>\n",
       "  </thead>\n",
       "  <tbody>\n",
       "    <tr>\n",
       "      <th>0</th>\n",
       "      <td>fec6b8b1c5cd7af9e6dc4e9c8c46fb08987f2e9c</td>\n",
       "      <td>56a1119c6ca57e39525cf06829f9ecff553cf4b5ac2482...</td>\n",
       "      <td>01/24/2020 12:15:00 AM</td>\n",
       "      <td>01/24/2020 12:15:00 AM</td>\n",
       "      <td>322.0</td>\n",
       "      <td>0.80</td>\n",
       "      <td>NaN</td>\n",
       "      <td>NaN</td>\n",
       "      <td>8.0</td>\n",
       "      <td>28.0</td>\n",
       "      <td>...</td>\n",
       "      <td>0.0</td>\n",
       "      <td>5.75</td>\n",
       "      <td>Cash</td>\n",
       "      <td>Medallion Leasin</td>\n",
       "      <td>41.899602</td>\n",
       "      <td>-87.633308</td>\n",
       "      <td>POINT (-87.6333080367 41.899602111)</td>\n",
       "      <td>41.874005</td>\n",
       "      <td>-87.663518</td>\n",
       "      <td>POINT (-87.6635175498 41.874005383)</td>\n",
       "    </tr>\n",
       "    <tr>\n",
       "      <th>1</th>\n",
       "      <td>ff5cad1f181d44fe60b9d0a1330f78269511d54a</td>\n",
       "      <td>6acd828b5cde8b4529317e8eda5b4fb9663fa81d1143c9...</td>\n",
       "      <td>01/24/2020 12:15:00 AM</td>\n",
       "      <td>01/24/2020 12:30:00 AM</td>\n",
       "      <td>671.0</td>\n",
       "      <td>5.17</td>\n",
       "      <td>NaN</td>\n",
       "      <td>NaN</td>\n",
       "      <td>8.0</td>\n",
       "      <td>3.0</td>\n",
       "      <td>...</td>\n",
       "      <td>0.0</td>\n",
       "      <td>16.75</td>\n",
       "      <td>Credit Card</td>\n",
       "      <td>Chicago Carriage Cab Corp</td>\n",
       "      <td>41.899602</td>\n",
       "      <td>-87.633308</td>\n",
       "      <td>POINT (-87.6333080367 41.899602111)</td>\n",
       "      <td>41.965812</td>\n",
       "      <td>-87.655879</td>\n",
       "      <td>POINT (-87.6558787862 41.96581197)</td>\n",
       "    </tr>\n",
       "    <tr>\n",
       "      <th>2</th>\n",
       "      <td>fbe685844176dd7822b6e256efce7fa3f8909e4b</td>\n",
       "      <td>b968bad5a2daed924a10e8ec4fb35513e060a076c575f7...</td>\n",
       "      <td>01/24/2020 12:15:00 AM</td>\n",
       "      <td>01/24/2020 12:30:00 AM</td>\n",
       "      <td>960.0</td>\n",
       "      <td>0.40</td>\n",
       "      <td>NaN</td>\n",
       "      <td>NaN</td>\n",
       "      <td>8.0</td>\n",
       "      <td>3.0</td>\n",
       "      <td>...</td>\n",
       "      <td>0.0</td>\n",
       "      <td>22.60</td>\n",
       "      <td>Credit Card</td>\n",
       "      <td>Taxi Affiliation Services</td>\n",
       "      <td>41.899602</td>\n",
       "      <td>-87.633308</td>\n",
       "      <td>POINT (-87.6333080367 41.899602111)</td>\n",
       "      <td>41.965812</td>\n",
       "      <td>-87.655879</td>\n",
       "      <td>POINT (-87.6558787862 41.96581197)</td>\n",
       "    </tr>\n",
       "    <tr>\n",
       "      <th>3</th>\n",
       "      <td>fddd99b2c6db17848390d4b57e7fff970e22b413</td>\n",
       "      <td>a4e718943931c99476ac0b332bb99261dd8e15994076bf...</td>\n",
       "      <td>01/24/2020 12:15:00 AM</td>\n",
       "      <td>01/24/2020 12:15:00 AM</td>\n",
       "      <td>120.0</td>\n",
       "      <td>0.00</td>\n",
       "      <td>1.703108e+10</td>\n",
       "      <td>1.703108e+10</td>\n",
       "      <td>8.0</td>\n",
       "      <td>8.0</td>\n",
       "      <td>...</td>\n",
       "      <td>0.0</td>\n",
       "      <td>4.00</td>\n",
       "      <td>Cash</td>\n",
       "      <td>Blue Ribbon Taxi Association Inc.</td>\n",
       "      <td>41.892508</td>\n",
       "      <td>-87.626215</td>\n",
       "      <td>POINT (-87.6262149064 41.8925077809)</td>\n",
       "      <td>41.892508</td>\n",
       "      <td>-87.626215</td>\n",
       "      <td>POINT (-87.6262149064 41.8925077809)</td>\n",
       "    </tr>\n",
       "  </tbody>\n",
       "</table>\n",
       "<p>4 rows × 23 columns</p>\n",
       "</div>"
      ],
      "text/plain": [
       "                                    Trip ID  \\\n",
       "0  fec6b8b1c5cd7af9e6dc4e9c8c46fb08987f2e9c   \n",
       "1  ff5cad1f181d44fe60b9d0a1330f78269511d54a   \n",
       "2  fbe685844176dd7822b6e256efce7fa3f8909e4b   \n",
       "3  fddd99b2c6db17848390d4b57e7fff970e22b413   \n",
       "\n",
       "                                             Taxi ID    Trip Start Timestamp  \\\n",
       "0  56a1119c6ca57e39525cf06829f9ecff553cf4b5ac2482...  01/24/2020 12:15:00 AM   \n",
       "1  6acd828b5cde8b4529317e8eda5b4fb9663fa81d1143c9...  01/24/2020 12:15:00 AM   \n",
       "2  b968bad5a2daed924a10e8ec4fb35513e060a076c575f7...  01/24/2020 12:15:00 AM   \n",
       "3  a4e718943931c99476ac0b332bb99261dd8e15994076bf...  01/24/2020 12:15:00 AM   \n",
       "\n",
       "       Trip End Timestamp  Trip Seconds  Trip Miles  Pickup Census Tract  \\\n",
       "0  01/24/2020 12:15:00 AM         322.0        0.80                  NaN   \n",
       "1  01/24/2020 12:30:00 AM         671.0        5.17                  NaN   \n",
       "2  01/24/2020 12:30:00 AM         960.0        0.40                  NaN   \n",
       "3  01/24/2020 12:15:00 AM         120.0        0.00         1.703108e+10   \n",
       "\n",
       "   Dropoff Census Tract  Pickup Community Area  Dropoff Community Area  ...  \\\n",
       "0                   NaN                    8.0                    28.0  ...   \n",
       "1                   NaN                    8.0                     3.0  ...   \n",
       "2                   NaN                    8.0                     3.0  ...   \n",
       "3          1.703108e+10                    8.0                     8.0  ...   \n",
       "\n",
       "   Extras  Trip Total  Payment Type                            Company  \\\n",
       "0     0.0        5.75          Cash                   Medallion Leasin   \n",
       "1     0.0       16.75   Credit Card          Chicago Carriage Cab Corp   \n",
       "2     0.0       22.60   Credit Card          Taxi Affiliation Services   \n",
       "3     0.0        4.00          Cash  Blue Ribbon Taxi Association Inc.   \n",
       "\n",
       "   Pickup Centroid Latitude Pickup Centroid Longitude  \\\n",
       "0                 41.899602                -87.633308   \n",
       "1                 41.899602                -87.633308   \n",
       "2                 41.899602                -87.633308   \n",
       "3                 41.892508                -87.626215   \n",
       "\n",
       "               Pickup Centroid Location  Dropoff Centroid Latitude  \\\n",
       "0   POINT (-87.6333080367 41.899602111)                  41.874005   \n",
       "1   POINT (-87.6333080367 41.899602111)                  41.965812   \n",
       "2   POINT (-87.6333080367 41.899602111)                  41.965812   \n",
       "3  POINT (-87.6262149064 41.8925077809)                  41.892508   \n",
       "\n",
       "   Dropoff Centroid Longitude            Dropoff Centroid  Location  \n",
       "0                  -87.663518   POINT (-87.6635175498 41.874005383)  \n",
       "1                  -87.655879    POINT (-87.6558787862 41.96581197)  \n",
       "2                  -87.655879    POINT (-87.6558787862 41.96581197)  \n",
       "3                  -87.626215  POINT (-87.6262149064 41.8925077809)  \n",
       "\n",
       "[4 rows x 23 columns]"
      ]
     },
     "execution_count": 7,
     "metadata": {},
     "output_type": "execute_result"
    }
   ],
   "source": [
    "df.head(4)"
   ]
  },
  {
   "cell_type": "code",
   "execution_count": 8,
   "metadata": {},
   "outputs": [
    {
     "data": {
      "text/plain": [
       "Trip ID                        object\n",
       "Taxi ID                        object\n",
       "Trip Start Timestamp           object\n",
       "Trip End Timestamp             object\n",
       "Trip Seconds                  float64\n",
       "Trip Miles                    float64\n",
       "Pickup Census Tract           float64\n",
       "Dropoff Census Tract          float64\n",
       "Pickup Community Area         float64\n",
       "Dropoff Community Area        float64\n",
       "Fare                          float64\n",
       "Tips                          float64\n",
       "Tolls                         float64\n",
       "Extras                        float64\n",
       "Trip Total                    float64\n",
       "Payment Type                   object\n",
       "Company                        object\n",
       "Pickup Centroid Latitude      float64\n",
       "Pickup Centroid Longitude     float64\n",
       "Pickup Centroid Location       object\n",
       "Dropoff Centroid Latitude     float64\n",
       "Dropoff Centroid Longitude    float64\n",
       "Dropoff Centroid  Location     object\n",
       "dtype: object"
      ]
     },
     "execution_count": 8,
     "metadata": {},
     "output_type": "execute_result"
    }
   ],
   "source": [
    "df.dtypes"
   ]
  },
  {
   "cell_type": "markdown",
   "metadata": {},
   "source": [
    "## We will work on 'Pickup Centroid Latitude' and 'Pickup Centroid Longitude'"
   ]
  },
  {
   "cell_type": "code",
   "execution_count": 9,
   "metadata": {},
   "outputs": [
    {
     "data": {
      "text/html": [
       "<div>\n",
       "<style scoped>\n",
       "    .dataframe tbody tr th:only-of-type {\n",
       "        vertical-align: middle;\n",
       "    }\n",
       "\n",
       "    .dataframe tbody tr th {\n",
       "        vertical-align: top;\n",
       "    }\n",
       "\n",
       "    .dataframe thead th {\n",
       "        text-align: right;\n",
       "    }\n",
       "</style>\n",
       "<table border=\"1\" class=\"dataframe\">\n",
       "  <thead>\n",
       "    <tr style=\"text-align: right;\">\n",
       "      <th></th>\n",
       "      <th>Pickup Centroid Latitude</th>\n",
       "      <th>Pickup Centroid Longitude</th>\n",
       "    </tr>\n",
       "  </thead>\n",
       "  <tbody>\n",
       "    <tr>\n",
       "      <th>0</th>\n",
       "      <td>41.899602</td>\n",
       "      <td>-87.633308</td>\n",
       "    </tr>\n",
       "    <tr>\n",
       "      <th>1</th>\n",
       "      <td>41.899602</td>\n",
       "      <td>-87.633308</td>\n",
       "    </tr>\n",
       "    <tr>\n",
       "      <th>2</th>\n",
       "      <td>41.899602</td>\n",
       "      <td>-87.633308</td>\n",
       "    </tr>\n",
       "    <tr>\n",
       "      <th>3</th>\n",
       "      <td>41.892508</td>\n",
       "      <td>-87.626215</td>\n",
       "    </tr>\n",
       "    <tr>\n",
       "      <th>4</th>\n",
       "      <td>41.874005</td>\n",
       "      <td>-87.663518</td>\n",
       "    </tr>\n",
       "    <tr>\n",
       "      <th>...</th>\n",
       "      <td>...</td>\n",
       "      <td>...</td>\n",
       "    </tr>\n",
       "    <tr>\n",
       "      <th>292777</th>\n",
       "      <td>41.874005</td>\n",
       "      <td>-87.663518</td>\n",
       "    </tr>\n",
       "    <tr>\n",
       "      <th>292778</th>\n",
       "      <td>41.874005</td>\n",
       "      <td>-87.663518</td>\n",
       "    </tr>\n",
       "    <tr>\n",
       "      <th>292779</th>\n",
       "      <td>41.892508</td>\n",
       "      <td>-87.626215</td>\n",
       "    </tr>\n",
       "    <tr>\n",
       "      <th>292780</th>\n",
       "      <td>41.899602</td>\n",
       "      <td>-87.633308</td>\n",
       "    </tr>\n",
       "    <tr>\n",
       "      <th>292781</th>\n",
       "      <td>NaN</td>\n",
       "      <td>NaN</td>\n",
       "    </tr>\n",
       "  </tbody>\n",
       "</table>\n",
       "<p>292782 rows × 2 columns</p>\n",
       "</div>"
      ],
      "text/plain": [
       "        Pickup Centroid Latitude  Pickup Centroid Longitude\n",
       "0                      41.899602                 -87.633308\n",
       "1                      41.899602                 -87.633308\n",
       "2                      41.899602                 -87.633308\n",
       "3                      41.892508                 -87.626215\n",
       "4                      41.874005                 -87.663518\n",
       "...                          ...                        ...\n",
       "292777                 41.874005                 -87.663518\n",
       "292778                 41.874005                 -87.663518\n",
       "292779                 41.892508                 -87.626215\n",
       "292780                 41.899602                 -87.633308\n",
       "292781                       NaN                        NaN\n",
       "\n",
       "[292782 rows x 2 columns]"
      ]
     },
     "execution_count": 9,
     "metadata": {},
     "output_type": "execute_result"
    }
   ],
   "source": [
    "new_df = df.iloc[:,17:19]\n",
    "new_df"
   ]
  },
  {
   "cell_type": "code",
   "execution_count": 16,
   "metadata": {},
   "outputs": [
    {
     "data": {
      "text/plain": [
       "Pickup Centroid Latitude     float64\n",
       "Pickup Centroid Longitude    float64\n",
       "dtype: object"
      ]
     },
     "execution_count": 16,
     "metadata": {},
     "output_type": "execute_result"
    }
   ],
   "source": [
    "new_df.dtypes"
   ]
  },
  {
   "cell_type": "code",
   "execution_count": 17,
   "metadata": {},
   "outputs": [
    {
     "data": {
      "text/html": [
       "<div>\n",
       "<style scoped>\n",
       "    .dataframe tbody tr th:only-of-type {\n",
       "        vertical-align: middle;\n",
       "    }\n",
       "\n",
       "    .dataframe tbody tr th {\n",
       "        vertical-align: top;\n",
       "    }\n",
       "\n",
       "    .dataframe thead th {\n",
       "        text-align: right;\n",
       "    }\n",
       "</style>\n",
       "<table border=\"1\" class=\"dataframe\">\n",
       "  <thead>\n",
       "    <tr style=\"text-align: right;\">\n",
       "      <th></th>\n",
       "      <th>Pickup Centroid Latitude</th>\n",
       "      <th>Pickup Centroid Longitude</th>\n",
       "    </tr>\n",
       "  </thead>\n",
       "  <tbody>\n",
       "    <tr>\n",
       "      <th>count</th>\n",
       "      <td>273071.000000</td>\n",
       "      <td>273071.000000</td>\n",
       "    </tr>\n",
       "    <tr>\n",
       "      <th>mean</th>\n",
       "      <td>41.897719</td>\n",
       "      <td>-87.664942</td>\n",
       "    </tr>\n",
       "    <tr>\n",
       "      <th>std</th>\n",
       "      <td>0.043462</td>\n",
       "      <td>0.083364</td>\n",
       "    </tr>\n",
       "    <tr>\n",
       "      <th>min</th>\n",
       "      <td>41.660136</td>\n",
       "      <td>-87.913625</td>\n",
       "    </tr>\n",
       "    <tr>\n",
       "      <th>25%</th>\n",
       "      <td>41.880994</td>\n",
       "      <td>-87.649489</td>\n",
       "    </tr>\n",
       "    <tr>\n",
       "      <th>50%</th>\n",
       "      <td>41.890922</td>\n",
       "      <td>-87.632746</td>\n",
       "    </tr>\n",
       "    <tr>\n",
       "      <th>75%</th>\n",
       "      <td>41.899602</td>\n",
       "      <td>-87.626146</td>\n",
       "    </tr>\n",
       "    <tr>\n",
       "      <th>max</th>\n",
       "      <td>42.009623</td>\n",
       "      <td>-87.534903</td>\n",
       "    </tr>\n",
       "  </tbody>\n",
       "</table>\n",
       "</div>"
      ],
      "text/plain": [
       "       Pickup Centroid Latitude  Pickup Centroid Longitude\n",
       "count             273071.000000              273071.000000\n",
       "mean                  41.897719                 -87.664942\n",
       "std                    0.043462                   0.083364\n",
       "min                   41.660136                 -87.913625\n",
       "25%                   41.880994                 -87.649489\n",
       "50%                   41.890922                 -87.632746\n",
       "75%                   41.899602                 -87.626146\n",
       "max                   42.009623                 -87.534903"
      ]
     },
     "execution_count": 17,
     "metadata": {},
     "output_type": "execute_result"
    }
   ],
   "source": [
    "new_df.describe()"
   ]
  },
  {
   "cell_type": "markdown",
   "metadata": {},
   "source": [
    "## Checking the number of null values in the dataset"
   ]
  },
  {
   "cell_type": "code",
   "execution_count": 18,
   "metadata": {},
   "outputs": [
    {
     "data": {
      "text/plain": [
       "Pickup Centroid Latitude     19711\n",
       "Pickup Centroid Longitude    19711\n",
       "dtype: int64"
      ]
     },
     "execution_count": 18,
     "metadata": {},
     "output_type": "execute_result"
    }
   ],
   "source": [
    "new_df.isnull().sum()"
   ]
  },
  {
   "cell_type": "markdown",
   "metadata": {},
   "source": [
    "## Removing null values"
   ]
  },
  {
   "cell_type": "code",
   "execution_count": 19,
   "metadata": {},
   "outputs": [
    {
     "data": {
      "text/plain": [
       "Pickup Centroid Latitude     0\n",
       "Pickup Centroid Longitude    0\n",
       "dtype: int64"
      ]
     },
     "execution_count": 19,
     "metadata": {},
     "output_type": "execute_result"
    }
   ],
   "source": [
    "new_df = new_df.dropna()\n",
    "new_df.isnull().sum()"
   ]
  },
  {
   "cell_type": "markdown",
   "metadata": {},
   "source": [
    "### Let's look at the data on a scatterplot"
   ]
  },
  {
   "cell_type": "code",
   "execution_count": 10,
   "metadata": {},
   "outputs": [
    {
     "data": {
      "image/png": "[encoded data removed]",
      "text/plain": [
       "<Figure size 432x288 with 1 Axes>"
      ]
     },
     "metadata": {
      "needs_background": "light"
     },
     "output_type": "display_data"
    }
   ],
   "source": [
    "plt.scatter(new_df['Pickup Centroid Latitude'], new_df['Pickup Centroid Longitude'])\n",
    "plt.ylabel(\"Pickup Centroid Longitude\")\n",
    "plt.xlabel(\"Pickup Centroid Latitude\")\n",
    "plt.title(\"Scatter Plot of Pickup Centroid Latitude and Longitude\")\n",
    "plt.show()"
   ]
  },
  {
   "cell_type": "markdown",
   "metadata": {},
   "source": [
    "#### As the dataset is not too dense, we will use KMeans, as it is the most simplest and fastest clustering algorithm"
   ]
  },
  {
   "cell_type": "markdown",
   "metadata": {},
   "source": [
    "### Getting the inertia value for different k-means"
   ]
  },
  {
   "cell_type": "code",
   "execution_count": 11,
   "metadata": {},
   "outputs": [],
   "source": [
    "# Let's look at the inertia from 2 - 20, plot it and find the right number using the elbow method.\n",
    "kmeans_inertia = pd.DataFrame(data=[], index=range(2, 21), columns=['inertia'])\n",
    "\n",
    "n_init = 10\n",
    "max_iter = 300\n",
    "tol = 0.0001\n",
    "random_state = 663\n",
    "\n",
    "for n_clusters in range(2, 21):\n",
    "    kmeans = KMeans(n_clusters=n_clusters, n_init=n_init, max_iter=max_iter, tol=tol, random_state=random_state)\n",
    "    cutoff = 99\n",
    "    kmeans.fit(new_df)\n",
    "    kmeans_inertia.loc[n_clusters] = kmeans.inertia_"
   ]
  },
  {
   "cell_type": "markdown",
   "metadata": {},
   "source": [
    "## Plotting the inertia (The Elbow Curve)"
   ]
  },
  {
   "cell_type": "code",
   "execution_count": 12,
   "metadata": {},
   "outputs": [
    {
     "data": {
      "image/png": "[encoded data removed]",
      "text/plain": [
       "<Figure size 432x288 with 1 Axes>"
      ]
     },
     "metadata": {
      "needs_background": "light"
     },
     "output_type": "display_data"
    }
   ],
   "source": [
    "# Graph kmeans_inertia\n",
    "# This should be unsurprising -- as we increase the number of clusters, the inertia falls\n",
    "# ... and the performance increases\n",
    "ax = plt.gca()\n",
    "\n",
    "kmeans_inertia.plot(kind='line', y='inertia', ax=ax)\n",
    "ax.set_xlabel('clusters (k)')\n",
    "ax.set_ylabel('Inertia')\n",
    "plt.title(\"Plotting the inertia\")\n",
    "plt.show()"
   ]
  },
  {
   "cell_type": "markdown",
   "metadata": {},
   "source": [
    "## From the diagram above we can say that 5 or 4 clusters would be appropritate\n",
    "### So we test for both\n",
    "### Testing for 5 Clusters"
   ]
  },
  {
   "cell_type": "code",
   "execution_count": 13,
   "metadata": {},
   "outputs": [
    {
     "name": "stdout",
     "output_type": "stream",
     "text": [
      "[0 0 0 ... 0 0 0]\n"
     ]
    }
   ],
   "source": [
    "kmeans5 = KMeans(n_clusters=5)\n",
    "model_5 = kmeans5.fit(new_df)\n",
    "y_kmeans5 = kmeans5.fit_predict(new_df)\n",
    "print(y_kmeans5)"
   ]
  },
  {
   "cell_type": "code",
   "execution_count": 14,
   "metadata": {},
   "outputs": [
    {
     "data": {
      "text/plain": [
       "array([0, 0, 0, ..., 0, 0, 0], dtype=int32)"
      ]
     },
     "execution_count": 14,
     "metadata": {},
     "output_type": "execute_result"
    }
   ],
   "source": [
    "kmeans5.labels_"
   ]
  },
  {
   "cell_type": "code",
   "execution_count": 15,
   "metadata": {},
   "outputs": [
    {
     "data": {
      "text/plain": [
       "array([[ 41.88714129, -87.63247869],\n",
       "       [ 41.97948163, -87.90583275],\n",
       "       [ 41.96213997, -87.68054314],\n",
       "       [ 41.79712832, -87.75226382],\n",
       "       [ 41.76293879, -87.60845703]])"
      ]
     },
     "execution_count": 15,
     "metadata": {},
     "output_type": "execute_result"
    }
   ],
   "source": [
    "kmeans5.cluster_centers_"
   ]
  },
  {
   "cell_type": "code",
   "execution_count": 16,
   "metadata": {},
   "outputs": [
    {
     "data": {
      "text/plain": [
       "array([[ 41.89960211, -87.63330804],\n",
       "       [ 41.89960211, -87.63330804],\n",
       "       [ 41.89960211, -87.63330804],\n",
       "       ...,\n",
       "       [ 41.87400538, -87.66351755],\n",
       "       [ 41.89250778, -87.62621491],\n",
       "       [ 41.89960211, -87.63330804]])"
      ]
     },
     "execution_count": 16,
     "metadata": {},
     "output_type": "execute_result"
    }
   ],
   "source": [
    "# Input data\n",
    "X = new_df.values\n",
    "X"
   ]
  },
  {
   "cell_type": "code",
   "execution_count": 17,
   "metadata": {},
   "outputs": [
    {
     "data": {
      "text/html": [
       "<div>\n",
       "<style scoped>\n",
       "    .dataframe tbody tr th:only-of-type {\n",
       "        vertical-align: middle;\n",
       "    }\n",
       "\n",
       "    .dataframe tbody tr th {\n",
       "        vertical-align: top;\n",
       "    }\n",
       "\n",
       "    .dataframe thead th {\n",
       "        text-align: right;\n",
       "    }\n",
       "</style>\n",
       "<table border=\"1\" class=\"dataframe\">\n",
       "  <thead>\n",
       "    <tr style=\"text-align: right;\">\n",
       "      <th></th>\n",
       "      <th>Pickup Centroid Latitude</th>\n",
       "      <th>Pickup Centroid Longitude</th>\n",
       "      <th>label</th>\n",
       "      <th>color</th>\n",
       "    </tr>\n",
       "  </thead>\n",
       "  <tbody>\n",
       "    <tr>\n",
       "      <th>0</th>\n",
       "      <td>41.899602</td>\n",
       "      <td>-87.633308</td>\n",
       "      <td>0</td>\n",
       "      <td>black</td>\n",
       "    </tr>\n",
       "    <tr>\n",
       "      <th>1</th>\n",
       "      <td>41.899602</td>\n",
       "      <td>-87.633308</td>\n",
       "      <td>0</td>\n",
       "      <td>black</td>\n",
       "    </tr>\n",
       "    <tr>\n",
       "      <th>2</th>\n",
       "      <td>41.899602</td>\n",
       "      <td>-87.633308</td>\n",
       "      <td>0</td>\n",
       "      <td>black</td>\n",
       "    </tr>\n",
       "    <tr>\n",
       "      <th>3</th>\n",
       "      <td>41.892508</td>\n",
       "      <td>-87.626215</td>\n",
       "      <td>0</td>\n",
       "      <td>black</td>\n",
       "    </tr>\n",
       "    <tr>\n",
       "      <th>4</th>\n",
       "      <td>41.874005</td>\n",
       "      <td>-87.663518</td>\n",
       "      <td>0</td>\n",
       "      <td>black</td>\n",
       "    </tr>\n",
       "    <tr>\n",
       "      <th>...</th>\n",
       "      <td>...</td>\n",
       "      <td>...</td>\n",
       "      <td>...</td>\n",
       "      <td>...</td>\n",
       "    </tr>\n",
       "    <tr>\n",
       "      <th>292776</th>\n",
       "      <td>41.944227</td>\n",
       "      <td>-87.655998</td>\n",
       "      <td>2</td>\n",
       "      <td>green</td>\n",
       "    </tr>\n",
       "    <tr>\n",
       "      <th>292777</th>\n",
       "      <td>41.874005</td>\n",
       "      <td>-87.663518</td>\n",
       "      <td>0</td>\n",
       "      <td>black</td>\n",
       "    </tr>\n",
       "    <tr>\n",
       "      <th>292778</th>\n",
       "      <td>41.874005</td>\n",
       "      <td>-87.663518</td>\n",
       "      <td>0</td>\n",
       "      <td>black</td>\n",
       "    </tr>\n",
       "    <tr>\n",
       "      <th>292779</th>\n",
       "      <td>41.892508</td>\n",
       "      <td>-87.626215</td>\n",
       "      <td>0</td>\n",
       "      <td>black</td>\n",
       "    </tr>\n",
       "    <tr>\n",
       "      <th>292780</th>\n",
       "      <td>41.899602</td>\n",
       "      <td>-87.633308</td>\n",
       "      <td>0</td>\n",
       "      <td>black</td>\n",
       "    </tr>\n",
       "  </tbody>\n",
       "</table>\n",
       "<p>273071 rows × 4 columns</p>\n",
       "</div>"
      ],
      "text/plain": [
       "        Pickup Centroid Latitude  Pickup Centroid Longitude  label  color\n",
       "0                      41.899602                 -87.633308      0  black\n",
       "1                      41.899602                 -87.633308      0  black\n",
       "2                      41.899602                 -87.633308      0  black\n",
       "3                      41.892508                 -87.626215      0  black\n",
       "4                      41.874005                 -87.663518      0  black\n",
       "...                          ...                        ...    ...    ...\n",
       "292776                 41.944227                 -87.655998      2  green\n",
       "292777                 41.874005                 -87.663518      0  black\n",
       "292778                 41.874005                 -87.663518      0  black\n",
       "292779                 41.892508                 -87.626215      0  black\n",
       "292780                 41.899602                 -87.633308      0  black\n",
       "\n",
       "[273071 rows x 4 columns]"
      ]
     },
     "execution_count": 17,
     "metadata": {},
     "output_type": "execute_result"
    }
   ],
   "source": [
    "new_df_label = new_df.copy()\n",
    "new_df_label['label'] = pd.Series(kmeans5.labels_, index=new_df.index)\n",
    "colors = [\"black\", \"yellow\", \"green\", \"blue\", \"red\"]\n",
    "new_df_label['color'] = new_df_label['label'].map(lambda k: colors[k])\n",
    "new_df_label"
   ]
  },
  {
   "cell_type": "code",
   "execution_count": 18,
   "metadata": {},
   "outputs": [
    {
     "data": {
      "image/png": "[encoded data removed]",
      "text/plain": [
       "<Figure size 432x288 with 1 Axes>"
      ]
     },
     "metadata": {
      "needs_background": "light"
     },
     "output_type": "display_data"
    }
   ],
   "source": [
    "plt.scatter(X[:, 0], X[:, 1], c = y_kmeans5, cmap = 'Accent')\n",
    "plt.ylabel(\"Pickup Centroid Longitude\")\n",
    "plt.xlabel(\"Pickup Centroid Latitude\")\n",
    "plt.title(\"KMeams Clustering of Pickup Centroid Latitude and Longitude\")\n",
    "plt.show()"
   ]
  },
  {
   "cell_type": "code",
   "execution_count": 19,
   "metadata": {},
   "outputs": [
    {
     "data": {
      "text/html": [
       "<div>\n",
       "<style scoped>\n",
       "    .dataframe tbody tr th:only-of-type {\n",
       "        vertical-align: middle;\n",
       "    }\n",
       "\n",
       "    .dataframe tbody tr th {\n",
       "        vertical-align: top;\n",
       "    }\n",
       "\n",
       "    .dataframe thead th {\n",
       "        text-align: right;\n",
       "    }\n",
       "</style>\n",
       "<table border=\"1\" class=\"dataframe\">\n",
       "  <thead>\n",
       "    <tr style=\"text-align: right;\">\n",
       "      <th></th>\n",
       "      <th>x1</th>\n",
       "      <th>x2</th>\n",
       "    </tr>\n",
       "  </thead>\n",
       "  <tbody>\n",
       "    <tr>\n",
       "      <th>0</th>\n",
       "      <td>41.887141</td>\n",
       "      <td>-87.632479</td>\n",
       "    </tr>\n",
       "    <tr>\n",
       "      <th>1</th>\n",
       "      <td>41.979482</td>\n",
       "      <td>-87.905833</td>\n",
       "    </tr>\n",
       "    <tr>\n",
       "      <th>2</th>\n",
       "      <td>41.962140</td>\n",
       "      <td>-87.680543</td>\n",
       "    </tr>\n",
       "    <tr>\n",
       "      <th>3</th>\n",
       "      <td>41.797128</td>\n",
       "      <td>-87.752264</td>\n",
       "    </tr>\n",
       "    <tr>\n",
       "      <th>4</th>\n",
       "      <td>41.762939</td>\n",
       "      <td>-87.608457</td>\n",
       "    </tr>\n",
       "  </tbody>\n",
       "</table>\n",
       "</div>"
      ],
      "text/plain": [
       "          x1         x2\n",
       "0  41.887141 -87.632479\n",
       "1  41.979482 -87.905833\n",
       "2  41.962140 -87.680543\n",
       "3  41.797128 -87.752264\n",
       "4  41.762939 -87.608457"
      ]
     },
     "execution_count": 19,
     "metadata": {},
     "output_type": "execute_result"
    }
   ],
   "source": [
    "centroids = pd.DataFrame(model_5.cluster_centers_, columns=[\"x1\", \"x2\"])\n",
    "centroids"
   ]
  },
  {
   "cell_type": "code",
   "execution_count": 20,
   "metadata": {},
   "outputs": [
    {
     "data": {
      "text/plain": [
       "<Figure size 504x504 with 0 Axes>"
      ]
     },
     "metadata": {},
     "output_type": "display_data"
    },
    {
     "data": {
      "image/png": "[encoded data removed]",
      "text/plain": [
       "<Figure size 720x576 with 1 Axes>"
      ]
     },
     "metadata": {
      "needs_background": "light"
     },
     "output_type": "display_data"
    }
   ],
   "source": [
    "plt.figure(figsize=(7,7))\n",
    "ax = new_df_label.plot(    \n",
    "    kind=\"scatter\", \n",
    "    x='Pickup Centroid Latitude', y='Pickup Centroid Longitude',\n",
    "    figsize=(10,8),\n",
    "    c = new_df_label['color']\n",
    ")\n",
    "ax.set_facecolor((\"beige\"))\n",
    "centroids.plot(\n",
    "    kind=\"scatter\", \n",
    "    x=\"x1\", y=\"x2\",\n",
    "    marker=\"*\", c=[\"k\", \"y\", \"g\", \"b\", \"r\"], s=550,\n",
    "    ax = ax\n",
    ")\n",
    "plt.ylabel(\"Pickup Centroid Longitude\")\n",
    "plt.xlabel(\"Pickup Centroid Latitude\")\n",
    "plt.title(\"KMeams Clustering of Pickup Centroid Latitude and Longitude with Centroids\")\n",
    "plt.show()"
   ]
  },
  {
   "cell_type": "markdown",
   "metadata": {},
   "source": [
    "### Testing for 4 Clusters"
   ]
  },
  {
   "cell_type": "code",
   "execution_count": 21,
   "metadata": {},
   "outputs": [
    {
     "data": {
      "text/plain": [
       "array([0, 0, 0, ..., 0, 0, 0], dtype=int32)"
      ]
     },
     "execution_count": 21,
     "metadata": {},
     "output_type": "execute_result"
    }
   ],
   "source": [
    "kmeans_4 = KMeans(n_clusters=4)\n",
    "model_4 = kmeans_4.fit(new_df)\n",
    "y_kmeans4 = kmeans_4.fit_predict(new_df)\n",
    "y_kmeans4"
   ]
  },
  {
   "cell_type": "code",
   "execution_count": 22,
   "metadata": {},
   "outputs": [
    {
     "data": {
      "text/plain": [
       "array([[ 41.88703156, -87.63236278],\n",
       "       [ 41.97948163, -87.90583275],\n",
       "       [ 41.77489346, -87.67991128],\n",
       "       [ 41.96089327, -87.68176175]])"
      ]
     },
     "execution_count": 22,
     "metadata": {},
     "output_type": "execute_result"
    }
   ],
   "source": [
    "kmeans_4.cluster_centers_"
   ]
  },
  {
   "cell_type": "code",
   "execution_count": 23,
   "metadata": {},
   "outputs": [
    {
     "data": {
      "image/png": "[encoded data removed]",
      "text/plain": [
       "<Figure size 432x288 with 1 Axes>"
      ]
     },
     "metadata": {
      "needs_background": "light"
     },
     "output_type": "display_data"
    }
   ],
   "source": [
    "plt.scatter(X[:, 0], X[:, 1], c = y_kmeans4, cmap = 'Accent')\n",
    "plt.ylabel(\"Pickup Centroid Longitude\")\n",
    "plt.xlabel(\"Pickup Centroid Latitude\")\n",
    "plt.title(\"KMeams Clustering of Pickup Centroid Latitude and Longitude\")\n",
    "plt.show()"
   ]
  },
  {
   "cell_type": "code",
   "execution_count": 24,
   "metadata": {},
   "outputs": [
    {
     "data": {
      "text/html": [
       "<div>\n",
       "<style scoped>\n",
       "    .dataframe tbody tr th:only-of-type {\n",
       "        vertical-align: middle;\n",
       "    }\n",
       "\n",
       "    .dataframe tbody tr th {\n",
       "        vertical-align: top;\n",
       "    }\n",
       "\n",
       "    .dataframe thead th {\n",
       "        text-align: right;\n",
       "    }\n",
       "</style>\n",
       "<table border=\"1\" class=\"dataframe\">\n",
       "  <thead>\n",
       "    <tr style=\"text-align: right;\">\n",
       "      <th></th>\n",
       "      <th>Pickup Centroid Latitude</th>\n",
       "      <th>Pickup Centroid Longitude</th>\n",
       "      <th>label</th>\n",
       "      <th>color</th>\n",
       "    </tr>\n",
       "  </thead>\n",
       "  <tbody>\n",
       "    <tr>\n",
       "      <th>0</th>\n",
       "      <td>41.899602</td>\n",
       "      <td>-87.633308</td>\n",
       "      <td>0</td>\n",
       "      <td>black</td>\n",
       "    </tr>\n",
       "    <tr>\n",
       "      <th>1</th>\n",
       "      <td>41.899602</td>\n",
       "      <td>-87.633308</td>\n",
       "      <td>0</td>\n",
       "      <td>black</td>\n",
       "    </tr>\n",
       "    <tr>\n",
       "      <th>2</th>\n",
       "      <td>41.899602</td>\n",
       "      <td>-87.633308</td>\n",
       "      <td>0</td>\n",
       "      <td>black</td>\n",
       "    </tr>\n",
       "    <tr>\n",
       "      <th>3</th>\n",
       "      <td>41.892508</td>\n",
       "      <td>-87.626215</td>\n",
       "      <td>0</td>\n",
       "      <td>black</td>\n",
       "    </tr>\n",
       "    <tr>\n",
       "      <th>4</th>\n",
       "      <td>41.874005</td>\n",
       "      <td>-87.663518</td>\n",
       "      <td>0</td>\n",
       "      <td>black</td>\n",
       "    </tr>\n",
       "    <tr>\n",
       "      <th>...</th>\n",
       "      <td>...</td>\n",
       "      <td>...</td>\n",
       "      <td>...</td>\n",
       "      <td>...</td>\n",
       "    </tr>\n",
       "    <tr>\n",
       "      <th>292776</th>\n",
       "      <td>41.944227</td>\n",
       "      <td>-87.655998</td>\n",
       "      <td>3</td>\n",
       "      <td>red</td>\n",
       "    </tr>\n",
       "    <tr>\n",
       "      <th>292777</th>\n",
       "      <td>41.874005</td>\n",
       "      <td>-87.663518</td>\n",
       "      <td>0</td>\n",
       "      <td>black</td>\n",
       "    </tr>\n",
       "    <tr>\n",
       "      <th>292778</th>\n",
       "      <td>41.874005</td>\n",
       "      <td>-87.663518</td>\n",
       "      <td>0</td>\n",
       "      <td>black</td>\n",
       "    </tr>\n",
       "    <tr>\n",
       "      <th>292779</th>\n",
       "      <td>41.892508</td>\n",
       "      <td>-87.626215</td>\n",
       "      <td>0</td>\n",
       "      <td>black</td>\n",
       "    </tr>\n",
       "    <tr>\n",
       "      <th>292780</th>\n",
       "      <td>41.899602</td>\n",
       "      <td>-87.633308</td>\n",
       "      <td>0</td>\n",
       "      <td>black</td>\n",
       "    </tr>\n",
       "  </tbody>\n",
       "</table>\n",
       "<p>273071 rows × 4 columns</p>\n",
       "</div>"
      ],
      "text/plain": [
       "        Pickup Centroid Latitude  Pickup Centroid Longitude  label  color\n",
       "0                      41.899602                 -87.633308      0  black\n",
       "1                      41.899602                 -87.633308      0  black\n",
       "2                      41.899602                 -87.633308      0  black\n",
       "3                      41.892508                 -87.626215      0  black\n",
       "4                      41.874005                 -87.663518      0  black\n",
       "...                          ...                        ...    ...    ...\n",
       "292776                 41.944227                 -87.655998      3    red\n",
       "292777                 41.874005                 -87.663518      0  black\n",
       "292778                 41.874005                 -87.663518      0  black\n",
       "292779                 41.892508                 -87.626215      0  black\n",
       "292780                 41.899602                 -87.633308      0  black\n",
       "\n",
       "[273071 rows x 4 columns]"
      ]
     },
     "execution_count": 24,
     "metadata": {},
     "output_type": "execute_result"
    }
   ],
   "source": [
    "new_df_label = new_df.copy()\n",
    "new_df_label['label'] = pd.Series(model_4.labels_, index=new_df.index)\n",
    "colors = [\"black\", \"green\", \"blue\", \"red\"]\n",
    "new_df_label['color'] = new_df_label['label'].map(lambda k: colors[k])\n",
    "new_df_label"
   ]
  },
  {
   "cell_type": "code",
   "execution_count": 25,
   "metadata": {},
   "outputs": [],
   "source": [
    "centroids = pd.DataFrame(model_4.cluster_centers_, columns=[\"x1\", \"x2\"])"
   ]
  },
  {
   "cell_type": "code",
   "execution_count": 26,
   "metadata": {},
   "outputs": [
    {
     "data": {
      "text/plain": [
       "<Figure size 504x504 with 0 Axes>"
      ]
     },
     "metadata": {},
     "output_type": "display_data"
    },
    {
     "data": {
      "image/png": "[encoded data removed]",
      "text/plain": [
       "<Figure size 720x576 with 1 Axes>"
      ]
     },
     "metadata": {
      "needs_background": "light"
     },
     "output_type": "display_data"
    }
   ],
   "source": [
    "plt.figure(figsize=(7,7))\n",
    "ax = new_df_label.plot(    \n",
    "    kind=\"scatter\", \n",
    "    x='Pickup Centroid Latitude', y='Pickup Centroid Longitude',\n",
    "    figsize=(10,8),\n",
    "    c = new_df_label['color']\n",
    ")\n",
    "ax.set_facecolor((\"beige\"))\n",
    "centroids.plot(\n",
    "    kind=\"scatter\", \n",
    "    x=\"x1\", y=\"x2\",\n",
    "    marker=\"*\", c=[\"k\", \"g\", \"b\", \"r\"], s=550,\n",
    "    ax = ax\n",
    ")\n",
    "plt.ylabel(\"Pickup Centroid Longitude\")\n",
    "plt.xlabel(\"Pickup Centroid Latitude\")\n",
    "plt.title(\"KMeams Clustering of Pickup Centroid Latitude and Longitude with Centroids\")\n",
    "plt.show()"
   ]
  },
  {
   "cell_type": "markdown",
   "metadata": {},
   "source": [
    "### As the KMeans clusters also included outliers in clustering, we might use another algorithm \"DBSCAN\" which might give better results w.r.t to outler"
   ]
  },
  {
   "cell_type": "markdown",
   "metadata": {},
   "source": [
    "#### As the original dataset wasn't able to run on orion cluster, a sample dataset has been chosen"
   ]
  },
  {
   "cell_type": "markdown",
   "metadata": {},
   "source": [
    "### Dataset"
   ]
  },
  {
   "cell_type": "code",
   "execution_count": 20,
   "metadata": {},
   "outputs": [
    {
     "data": {
      "text/html": [
       "<div>\n",
       "<style scoped>\n",
       "    .dataframe tbody tr th:only-of-type {\n",
       "        vertical-align: middle;\n",
       "    }\n",
       "\n",
       "    .dataframe tbody tr th {\n",
       "        vertical-align: top;\n",
       "    }\n",
       "\n",
       "    .dataframe thead th {\n",
       "        text-align: right;\n",
       "    }\n",
       "</style>\n",
       "<table border=\"1\" class=\"dataframe\">\n",
       "  <thead>\n",
       "    <tr style=\"text-align: right;\">\n",
       "      <th></th>\n",
       "      <th>Pickup Centroid Latitude</th>\n",
       "      <th>Pickup Centroid Longitude</th>\n",
       "    </tr>\n",
       "  </thead>\n",
       "  <tbody>\n",
       "    <tr>\n",
       "      <th>108000</th>\n",
       "      <td>41.878866</td>\n",
       "      <td>-87.625192</td>\n",
       "    </tr>\n",
       "    <tr>\n",
       "      <th>19968</th>\n",
       "      <td>41.879255</td>\n",
       "      <td>-87.642649</td>\n",
       "    </tr>\n",
       "    <tr>\n",
       "      <th>240071</th>\n",
       "      <td>41.884987</td>\n",
       "      <td>-87.620993</td>\n",
       "    </tr>\n",
       "    <tr>\n",
       "      <th>196360</th>\n",
       "      <td>41.874005</td>\n",
       "      <td>-87.663518</td>\n",
       "    </tr>\n",
       "    <tr>\n",
       "      <th>200672</th>\n",
       "      <td>41.892042</td>\n",
       "      <td>-87.631864</td>\n",
       "    </tr>\n",
       "    <tr>\n",
       "      <th>...</th>\n",
       "      <td>...</td>\n",
       "      <td>...</td>\n",
       "    </tr>\n",
       "    <tr>\n",
       "      <th>43485</th>\n",
       "      <td>41.892042</td>\n",
       "      <td>-87.631864</td>\n",
       "    </tr>\n",
       "    <tr>\n",
       "      <th>149499</th>\n",
       "      <td>41.892073</td>\n",
       "      <td>-87.628874</td>\n",
       "    </tr>\n",
       "    <tr>\n",
       "      <th>94991</th>\n",
       "      <td>41.892508</td>\n",
       "      <td>-87.626215</td>\n",
       "    </tr>\n",
       "    <tr>\n",
       "      <th>176588</th>\n",
       "      <td>41.890922</td>\n",
       "      <td>-87.618868</td>\n",
       "    </tr>\n",
       "    <tr>\n",
       "      <th>15493</th>\n",
       "      <td>41.900266</td>\n",
       "      <td>-87.632109</td>\n",
       "    </tr>\n",
       "  </tbody>\n",
       "</table>\n",
       "<p>27307 rows × 2 columns</p>\n",
       "</div>"
      ],
      "text/plain": [
       "        Pickup Centroid Latitude  Pickup Centroid Longitude\n",
       "108000                 41.878866                 -87.625192\n",
       "19968                  41.879255                 -87.642649\n",
       "240071                 41.884987                 -87.620993\n",
       "196360                 41.874005                 -87.663518\n",
       "200672                 41.892042                 -87.631864\n",
       "...                          ...                        ...\n",
       "43485                  41.892042                 -87.631864\n",
       "149499                 41.892073                 -87.628874\n",
       "94991                  41.892508                 -87.626215\n",
       "176588                 41.890922                 -87.618868\n",
       "15493                  41.900266                 -87.632109\n",
       "\n",
       "[27307 rows x 2 columns]"
      ]
     },
     "execution_count": 20,
     "metadata": {},
     "output_type": "execute_result"
    }
   ],
   "source": [
    "df_dbscan_sample = new_df.sample(frac=0.1, replace=True)\n",
    "df_dbscan_sample"
   ]
  },
  {
   "cell_type": "markdown",
   "metadata": {},
   "source": [
    "### Scaling the data with Standard Scalar"
   ]
  },
  {
   "cell_type": "code",
   "execution_count": 21,
   "metadata": {},
   "outputs": [
    {
     "data": {
      "text/plain": [
       "array([[-0.42872585,  0.47765133],\n",
       "       [-0.41981479,  0.26636681],\n",
       "       [-0.28867434,  0.5284756 ],\n",
       "       ...,\n",
       "       [-0.11661662,  0.46527257],\n",
       "       [-0.15289587,  0.55418964],\n",
       "       [ 0.06087049,  0.39393227]])"
      ]
     },
     "execution_count": 21,
     "metadata": {},
     "output_type": "execute_result"
    }
   ],
   "source": [
    "scaler = StandardScaler()\n",
    "X_dbscan = df_dbscan_sample.values\n",
    "scaled_X_dbscan = scaler.fit_transform(X_dbscan)\n",
    "scaled_X_dbscan"
   ]
  },
  {
   "cell_type": "markdown",
   "metadata": {},
   "source": [
    "### Getting the nearest neighbours"
   ]
  },
  {
   "cell_type": "code",
   "execution_count": 22,
   "metadata": {},
   "outputs": [
    {
     "data": {
      "text/plain": [
       "(array([[0., 0., 0., ..., 0., 0., 0.],\n",
       "        [0., 0., 0., ..., 0., 0., 0.],\n",
       "        [0., 0., 0., ..., 0., 0., 0.],\n",
       "        ...,\n",
       "        [0., 0., 0., ..., 0., 0., 0.],\n",
       "        [0., 0., 0., ..., 0., 0., 0.],\n",
       "        [0., 0., 0., ..., 0., 0., 0.]]),\n",
       " array([[15858,  2343,   341, ..., 17544, 17549,  7158],\n",
       "        [  512, 10829, 10807, ...,  1551,  1713,  1481],\n",
       "        [10916, 17685,  8969, ...,  5861, 23352,  5629],\n",
       "        ...,\n",
       "        [ 1067,  4358, 20020, ..., 15406,  7438,  1627],\n",
       "        [17849, 13192,  6992, ..., 27305,   378, 19813],\n",
       "        [ 2893, 12671, 11785, ..., 24539, 17200,  4832]]))"
      ]
     },
     "execution_count": 22,
     "metadata": {},
     "output_type": "execute_result"
    }
   ],
   "source": [
    "# Ref: https://towardsdatascience.com/machine-learning-clustering-dbscan-determine-the-optimal-value-for-epsilon-eps-python-example-3100091cfbc\n",
    "\n",
    "from sklearn.neighbors import NearestNeighbors\n",
    "\n",
    "neighbors = NearestNeighbors(n_neighbors=10)\n",
    "n_fit = neighbors.fit(scaled_X_dbscan)\n",
    "distances, indices = n_fit.kneighbors(scaled_X_dbscan)\n",
    "distances, indices"
   ]
  },
  {
   "cell_type": "code",
   "execution_count": 23,
   "metadata": {},
   "outputs": [
    {
     "data": {
      "text/plain": [
       "[<matplotlib.lines.Line2D at 0x7fd82474f780>]"
      ]
     },
     "execution_count": 23,
     "metadata": {},
     "output_type": "execute_result"
    },
    {
     "data": {
      "image/png": "[encoded data removed]",
      "text/plain": [
       "<Figure size 432x288 with 1 Axes>"
      ]
     },
     "metadata": {
      "needs_background": "light"
     },
     "output_type": "display_data"
    }
   ],
   "source": [
    "distances = np.sort(distances, axis=0)\n",
    "distances = distances[:,1]\n",
    "plt.plot(distances)"
   ]
  },
  {
   "cell_type": "code",
   "execution_count": 24,
   "metadata": {},
   "outputs": [],
   "source": [
    "# Ref: https://scikit-learn.org/stable/auto_examples/cluster/plot_dbscan.html\n",
    "\n",
    "# DBSCAN\n",
    "db = DBSCAN(eps=0.5, min_samples=10).fit(scaled_X_dbscan)\n",
    "core_samples_mask = np.zeros_like(db.labels_, dtype=bool)\n",
    "core_samples_mask[db.core_sample_indices_] = True\n",
    "labels = db.labels_"
   ]
  },
  {
   "cell_type": "code",
   "execution_count": 25,
   "metadata": {},
   "outputs": [],
   "source": [
    "# Number of clusters in labels, ignoring noise if present.\n",
    "n_clusters_ = len(set(labels)) - (1 if -1 in labels else 0)\n",
    "n_noise_ = list(labels).count(-1)"
   ]
  },
  {
   "cell_type": "code",
   "execution_count": 26,
   "metadata": {},
   "outputs": [
    {
     "name": "stdout",
     "output_type": "stream",
     "text": [
      "Estimated number of clusters: 4\n",
      "Estimated number of noise points: 22\n"
     ]
    }
   ],
   "source": [
    "print('Estimated number of clusters: %d' % n_clusters_)\n",
    "print('Estimated number of noise points: %d' % n_noise_)"
   ]
  },
  {
   "cell_type": "code",
   "execution_count": 27,
   "metadata": {},
   "outputs": [
    {
     "data": {
      "image/png": "[encoded data removed]",
      "text/plain": [
       "<Figure size 432x288 with 1 Axes>"
      ]
     },
     "metadata": {
      "needs_background": "light"
     },
     "output_type": "display_data"
    }
   ],
   "source": [
    "# Plot result\n",
    "import matplotlib.pyplot as plt\n",
    "\n",
    "# Black removed and is used for noise instead.\n",
    "unique_labels = set(labels)\n",
    "colors = [plt.cm.Spectral(each)\n",
    "          for each in np.linspace(0, 1, len(unique_labels))]\n",
    "for k, col in zip(unique_labels, colors):\n",
    "    if k == -1:\n",
    "        # Black used for noise.\n",
    "        col = [0, 0, 0, 1]\n",
    "\n",
    "    class_member_mask = (labels == k)\n",
    "\n",
    "    xy = scaled_X_dbscan[class_member_mask & core_samples_mask]\n",
    "    plt.plot(xy[:, 0], xy[:, 1], 'o', markerfacecolor=tuple(col),\n",
    "             markeredgecolor='k', markersize=14)\n",
    "\n",
    "    xy = scaled_X_dbscan[class_member_mask & ~core_samples_mask]\n",
    "    plt.plot(xy[:, 0], xy[:, 1], 'o', markerfacecolor=tuple(col),\n",
    "             markeredgecolor='k', markersize=6)\n",
    "\n",
    "plt.title('Estimated number of clusters: %d' % n_clusters_)\n",
    "plt.show()"
   ]
  },
  {
   "cell_type": "code",
   "execution_count": 29,
   "metadata": {},
   "outputs": [
    {
     "data": {
      "text/plain": [
       "Text(0.5, 1.0, 'DBSCAN')"
      ]
     },
     "execution_count": 29,
     "metadata": {},
     "output_type": "execute_result"
    },
    {
     "data": {
      "image/png": "[encoded data removed]",
      "text/plain": [
       "<Figure size 432x288 with 1 Axes>"
      ]
     },
     "metadata": {
      "needs_background": "light"
     },
     "output_type": "display_data"
    }
   ],
   "source": [
    "y_predict = db.fit_predict(scaled_X_dbscan)\n",
    "plt.scatter(scaled_X_dbscan[:,0], scaled_X_dbscan[:,1], c = y_predict, cmap = 'Paired')\n",
    "plt.title(\"DBSCAN\")"
   ]
  },
  {
   "cell_type": "markdown",
   "metadata": {},
   "source": [
    "#### 1. The reason why you chose the clustering algorithm(s)\n",
    "\n",
    "\n",
    "As the dataset is not too dense and has a lot of variance, K-Means was used as it was easy to identify clusters from the alogorithm. Also, the speed of KMeans is highest, for the 150+MB dataset. KMeans made for sense than any other algorithm. As the KMeans clusters also included outliers in clustering, we used DBSCAN to get better results w.r.t to outlers.But, due to relative nearness between data points, DBSCAN clustered most of the data into big cluster.\n",
    "So, KMeans is a better algorithms for this dataset.\n",
    "\n",
    "#### 2. Any pre-processing of the data or any hyperparameter settings\n",
    "\n",
    "Preprocessing - Null values were removed, to eliminate any issues that could have arised while running k-means or DBSCAN.\n",
    "\n",
    "While running K-Means algorithm several times for obtaining the optimal k-values, various hyperparameters were configured.\n",
    "\n",
    "`n_init, max_iter, tol, random_stat`\n",
    "\n",
    "When running DBScan, values were scaled to get values under Normal (Gaussian) Distribution.\n",
    "\n",
    "\n",
    "#### 3. Output from the algorithm(s) -- show what clusters were generated\n",
    "\n",
    "Visualized KMeans above for k = 4 and 5, with/without centroids and DBSCAN proving that there were 4 Clusters in the dataset.\n",
    "\n",
    "#### 4. The metrics you used to evaluate the output. What kind of performance did you get from that algorithm? Is that what you expected?\n",
    "Metrics: How many clusters could either of the clustering algorithms build more accurately.\n",
    "While KMeans have included the outliers as well, but it is still better than DMScan, as DBSCAN couldn't even segregate data points into diffrent cluster.\n",
    "\n",
    "I expected the same from KMeans and DBScan. DBSCAN is better for compactness. As data is not so compact, this feels okay to me."
   ]
  },
  {
   "cell_type": "code",
   "execution_count": null,
   "metadata": {},
   "outputs": [],
   "source": []
  }
 ],
 "metadata": {
  "kernelspec": {
   "display_name": "Python 3",
   "language": "python",
   "name": "python3"
  },
  "language_info": {
   "codemirror_mode": {
    "name": "ipython",
    "version": 3
   },
   "file_extension": ".py",
   "mimetype": "text/x-python",
   "name": "python",
   "nbconvert_exporter": "python",
   "pygments_lexer": "ipython3",
   "version": "3.6.8"
  }
 },
 "nbformat": 4,
 "nbformat_minor": 2
}
